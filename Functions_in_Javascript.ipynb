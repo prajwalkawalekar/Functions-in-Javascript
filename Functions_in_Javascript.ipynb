{
  "nbformat": 4,
  "nbformat_minor": 0,
  "metadata": {
    "colab": {
      "provenance": []
    },
    "kernelspec": {
      "name": "python3",
      "display_name": "Python 3"
    },
    "language_info": {
      "name": "python"
    }
  },
  "cells": [
    {
      "cell_type": "code",
      "source": [
        "\"\"\" 1. Create an arrow function called square that takes a number as an argument and returns its square. Use\n",
        "the arrow function to calculate the square of a given number and display the result. \"\"\"\n",
        "\n",
        "      const square = (num) => num * num;\n",
        "\n",
        "      const number = 5;\n",
        "      const result = square(number);\n",
        "\n",
        "      console.log(`The square of ${number} is ${result}`);"
      ],
      "metadata": {
        "id": "4sLu_2iS5Cz4"
      },
      "execution_count": null,
      "outputs": []
    },
    {
      "cell_type": "code",
      "source": [
        "\"\"\" 2. Create a JavaScript function called generateGreeting that takes a name as an argument and returns a\n",
        "personalized greeting message. Use this function to greet three different people. \"\"\"\n",
        "\n",
        "      function generateGreeting(name) {\n",
        "        return `Hello, ${name}! Welcome to the JavaScript world.`;\n",
        "      }\n",
        "\n",
        "      const greeting1 = generateGreeting(\"Alice\");\n",
        "      const greeting2 = generateGreeting(\"Bob\");\n",
        "      const greeting3 = generateGreeting(\"Charlie\");\n",
        "\n",
        "      console.log(greeting1);\n",
        "      console.log(greeting2);\n",
        "      console.log(greeting3);"
      ],
      "metadata": {
        "id": "xERejIux5vnX"
      },
      "execution_count": null,
      "outputs": []
    },
    {
      "cell_type": "code",
      "source": [
        "\"\"\" 3. Create an IIFE (Immediately Invoked Function Expression) that calculates the square of a number and\n",
        "immediately displays the result. \"\"\"\n",
        "\n",
        "      (function (num) {\n",
        "          const square = num * num;\n",
        "          console.log(`The square of ${num} is ${square}`);\n",
        "      })(6);"
      ],
      "metadata": {
        "id": "SIxVZlhm6kjH"
      },
      "execution_count": null,
      "outputs": []
    },
    {
      "cell_type": "code",
      "source": [
        "\"\"\" 4. Write a JavaScript function called calculateTax that takes an income as an argument and returns the\n",
        "amount of tax to be paid. Use a closure to handle different tax rates based on income ranges. Test the\n",
        "function with various incomes. \"\"\"\n",
        "\n",
        "      function calculateTax() {\n",
        "        return function (income) {\n",
        "          let taxRate;\n",
        "\n",
        "          if (income <= 50000) {\n",
        "            taxRate = 0.05; // 5%\n",
        "          } else if (income <= 100000) {\n",
        "            taxRate = 0.1; // 10%\n",
        "          } else if (income <= 200000) {\n",
        "            taxRate = 0.15; // 15%\n",
        "          } else {\n",
        "            taxRate = 0.2; // 20%\n",
        "          }\n",
        "\n",
        "          return income * taxRate;\n",
        "        };\n",
        "      }\n",
        "\n",
        "      const taxCalculator = calculateTax();\n",
        "\n",
        "      console.log(`Tax on ₹40,000: ₹${taxCalculator(40000)}`);\n",
        "      console.log(`Tax on ₹80,000: ₹${taxCalculator(80000)}`);\n",
        "      console.log(`Tax on ₹150,000: ₹${taxCalculator(150000)}`);\n",
        "      console.log(`Tax on ₹250,000: ₹${taxCalculator(250000)}`);"
      ],
      "metadata": {
        "id": "TTaLdqrK7Dcf"
      },
      "execution_count": null,
      "outputs": []
    },
    {
      "cell_type": "code",
      "source": [
        "\"\"\" 5. Write a JavaScript function called factorial that calculates the factorial of a non-negative integer using\n",
        "recursion. Test the function with different inputs. \"\"\"\n",
        "\n",
        "      function factorial(n) {\n",
        "        if (n < 0) {\n",
        "          return \"Factorial is not defined for negative numbers.\";\n",
        "        }\n",
        "\n",
        "        if (n === 0 || n === 1) {\n",
        "          return 1;\n",
        "        }\n",
        "\n",
        "        return n * factorial(n - 1);\n",
        "      }\n",
        "\n",
        "      console.log(`Factorial of 0 is: ${factorial(0)}`);\n",
        "      console.log(`Factorial of 1 is: ${factorial(1)}`);\n",
        "      console.log(`Factorial of 5 is: ${factorial(5)}`);\n",
        "      console.log(`Factorial of 7 is: ${factorial(7)}`);\n",
        "      console.log(`Factorial of -3 is: ${factorial(-3)}`);"
      ],
      "metadata": {
        "id": "B0vnZxEf72SA"
      },
      "execution_count": null,
      "outputs": []
    },
    {
      "cell_type": "code",
      "source": [
        "\"\"\" 6. Write a JavaScript function called curry that takes a function as an argument and returns a curried\n",
        "version of that function. The curried function should accept arguments one at a time and return a new\n",
        "function until all arguments are provided. Then, it should execute the original function with all arguments.\n",
        "Test the curry function with a function that adds two numbers. \"\"\"\n",
        "\n",
        "      function curry(func) {\n",
        "        return function curried(...args) {\n",
        "          if (args.length >= func.length) {\n",
        "            return func(...args);\n",
        "          } else {\n",
        "            return function (...nextArgs) {\n",
        "              return curried(...args, ...nextArgs);\n",
        "            };\n",
        "          }\n",
        "        };\n",
        "      }\n",
        "\n",
        "      function add(a, b) {\n",
        "        return a + b;\n",
        "      }\n",
        "\n",
        "      const curriedAdd = curry(add);\n",
        "\n",
        "      console.log(curriedAdd(5)(10));"
      ],
      "metadata": {
        "id": "NQZ9I6lC8R0P"
      },
      "execution_count": null,
      "outputs": []
    }
  ]
}